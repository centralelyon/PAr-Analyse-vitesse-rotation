{
 "cells": [
  {
   "cell_type": "markdown",
   "metadata": {},
   "source": [
    "# Soustraction d'image moyenne sur une vidéo\n",
    "\n",
    "## Code"
   ]
  },
  {
   "cell_type": "code",
   "execution_count": 6,
   "metadata": {},
   "outputs": [
    {
     "data": {
      "application/vnd.jupyter.widget-view+json": {
       "model_id": "e80f34cee93a406d87cad1d6f4d381b2",
       "version_major": 2,
       "version_minor": 0
      },
      "text/plain": [
       "Dropdown(description='Choisissez une vidéo :', options=('0', 'Arc_Compil_Tir', 'Billard_Coup_1', 'Billard_Coup…"
      ]
     },
     "metadata": {},
     "output_type": "display_data"
    },
    {
     "data": {
      "application/vnd.jupyter.widget-view+json": {
       "model_id": "0b6bf91fcd704e05bf2e74de32547180",
       "version_major": 2,
       "version_minor": 0
      },
      "text/plain": [
       "Output()"
      ]
     },
     "metadata": {},
     "output_type": "display_data"
    }
   ],
   "source": [
    "import ipywidgets as widgets\n",
    "import os\n",
    "import cv2,numpy,json\n",
    "\n",
    "\n",
    "def video2listImage(adresseVideo,staSec,stoSec): # Renvoie une liste d'image sous forme d'array\n",
    "    video = cv2.VideoCapture(adresseVideo)\n",
    "    videoFPS = video.get(cv2.CAP_PROP_FPS)\n",
    "    print(videoFPS)\n",
    "    \n",
    "    # Première étape, aller au time code de départ\n",
    "    continuer=True\n",
    "    compteur=0\n",
    "    while continuer:\n",
    "        isRead = video.read()\n",
    "        if not isRead:\n",
    "            continuer = False\n",
    "            print(\"Time code de départ trop grand\")\n",
    "            return None\n",
    "        else:\n",
    "            compteur+=1\n",
    "            if (compteur/videoFPS>staSec):\n",
    "                continuer = False\n",
    "    \n",
    "    compteur-=1\n",
    "    if staSec!=0:\n",
    "        print(\"Time code de début atteint\",compteur/videoFPS)\n",
    "    cptDebut=compteur\n",
    "    \n",
    "    #On commence à enregistrer les images\n",
    "    imlist=[]\n",
    "    continuer = True\n",
    "        \n",
    "    while continuer:\n",
    "        isRead , frame = video.read()  # A-t-on lu une image et si oui cette image\n",
    "        if not isRead:\n",
    "            continuer = False\n",
    "        else:\n",
    "            imlist.append(frame)\n",
    "            compteur+=1\n",
    "            \n",
    "            if (stoSec!=-1): #Si on ne va pas jusqu'à la fin de la vidéo\n",
    "                if(compteur/videoFPS>stoSec):\n",
    "                    print(\"Time code de fin atteint\",compteur/videoFPS)\n",
    "                    continuer=False\n",
    "    \n",
    "    if (compteur/videoFPS<stoSec):\n",
    "        print(\"Time code de fin trop grand\")\n",
    "        return None\n",
    "    duree=(compteur-cptDebut)/videoFPS\n",
    "    \n",
    "    \n",
    "    return imlist,videoFPS,duree\n",
    "\n",
    "def subImageMoyArr(imListArr,PosIm): # Renvoie un tableau OpenCV\n",
    "    n=len(imListArr)\n",
    "    imCentre=imListArr[PosIm]\n",
    "    imMoy=calcImageMoyenneArr(imListArr)\n",
    "    imSub = cv2.subtract(imCentre,imMoy)\n",
    "    return imSub\n",
    "\n",
    "def calcImageMoyenneArr(imListArr): # Renvoie array\n",
    "    w,h=len(imListArr[0]), len(imListArr[0][0])\n",
    "    arr=numpy.zeros((h,w,4),numpy.float)\n",
    "    images = numpy.array([image for image in imListArr])\n",
    "    # Round values in array and cast as 8-bit integer\n",
    "    arr=numpy.array(numpy.mean(images,axis=(0)),dtype=numpy.uint8)\n",
    "    return arr\n",
    "\n",
    "def SubImageMoySurListe(imList,tailleMoy,PosIm): # Renvoie une liste des images soustraites\n",
    "    imlistMoy = [0]*tailleMoy\n",
    "    imlistSubMoy = [0]*(len(imList)-tailleMoy+1)\n",
    "    for i in range(PosIm,len(imList)-(tailleMoy-PosIm)):\n",
    "        # On selectionne les images autour de celle traitée\n",
    "        for j in range(tailleMoy):\n",
    "            imlistMoy[j]=imList[j+i-PosIm]\n",
    "        imlistSubMoy[i-PosIm]=subImageMoyArr(imlistMoy,PosIm)\n",
    "    return imlistSubMoy\n",
    "\n",
    "#Enregistrement de la vidéo\n",
    "def listImage2Video(imList,writeFPS,nomFichier):\n",
    "    height,width,layers=imList[0].shape\n",
    "    # choose codec according to format needed\n",
    "    fourcc = cv2.VideoWriter_fourcc(*'mp4v')\n",
    "    video=cv2.VideoWriter(nomFichier, fourcc, writeFPS,(width,height))\n",
    "    for img in imList:\n",
    "        video.write(img)\n",
    "    return video,width,height\n",
    "\n",
    "\n",
    "def soustractionDeFond(nomVideoOrigine):\n",
    "    \n",
    "    ## Recuperation du nom du fichier avec l'extension\n",
    "    allfiles=os.listdir(os.getcwd()+\"/Data/\"+nomVideoOrigine)\n",
    "    file=[name for name in allfiles if (name.startswith(nomVideo.value) and name[-4:] in [\".mp4\",\".avi\",\".mov\",\".3gp\"])][0]\n",
    "\n",
    "    adr=\"Data/\"+nomVideoOrigine+\"/\"+file\n",
    "\n",
    "    ## -- Paramètres -- ##\n",
    "    startSecond=0\n",
    "    stopSecond=-1\n",
    "    tailleIntervalle=13\n",
    "    posIm=7\n",
    "    posIm-=1 #position en pyhton (qui commence a zero)\n",
    "    \n",
    "    # Soustraction\n",
    "    imList, FPS, duree = video2listImage(adr,startSecond,stopSecond) # Tableau d'array\n",
    "    if (imList!=None):\n",
    "        imListSubMoy=SubImageMoySurListe(imList, tailleIntervalle,posIm) # Les mêmes images, auxquelles on a enlevé les images moyennes\n",
    "    \n",
    "    # Enregistrement\n",
    "    videoWriteFile=\"SUB_\"+file\n",
    "    os.chdir(\"Data/\"+nomVideoOrigine)\n",
    "    videoSub,width, height= listImage2Video(imListSubMoy,FPS, videoWriteFile)\n",
    "    videoSub.release()\n",
    "\n",
    "    # Génération du fichier JSON\n",
    "    data ={}\n",
    "    data[\"Nom\"] = nomVideoOrigine\n",
    "    data[\"height\"] = height\n",
    "    data[\"width\"] = width\n",
    "    data[\"Frame per second\"] = FPS\n",
    "    data[\"Duree\"] = duree\n",
    "    data[\"Taille intervalle image moyenne\"] = tailleIntervalle\n",
    "    data[\"Position de l'image dans l'intervale\"] = posIm+1\n",
    "\n",
    "    with open('data.json', 'w') as f:\n",
    "     json.dump(data,f,indent=4, ensure_ascii=False, sort_keys=False)\n",
    "\n",
    "    os.chdir(\"..\")\n",
    "    os.chdir(\"..\")\n",
    "\n",
    "    print(\"Done\")\n",
    "\n",
    "# On recupère tout les noms de dossier pour choisir la vidéo\n",
    "alldir=os.listdir(os.getcwd()+\"/Data\")\n",
    "listeVideo=[filename for filename in alldir]\n",
    "\n",
    "nomVideo = widgets.Dropdown(options=listeVideo,\n",
    "    description='Choisissez une vidéo :',\n",
    "    disabled=False,\n",
    ")\n",
    "display(nomVideo)\n",
    "\n",
    "out = widgets.Output()\n",
    "\n",
    "\n",
    "def on_change(change):\n",
    "    if change['type'] == 'change' and change['name'] == 'value':\n",
    "        out.clear_output()\n",
    "        with out :\n",
    "            if change['new']!=\"0\":\n",
    "                print(\"Vous avez choisi %s\" % change['new'])\n",
    "                soustractionDeFond(change['new'])\n",
    "            \n",
    "nomVideo.observe(on_change)\n",
    "display(out)"
   ]
  },
  {
   "cell_type": "markdown",
   "metadata": {},
   "source": [
    "## Résultats\n",
    "\n",
    "On rapelle que le cadre de la vidéo se doit d'être fixe pour utiliser ce programme.\n",
    "\n",
    "La soustraction d'image moyenne permet bien d'effacer tout ce qui ne bouge pas. En revanche les joueurs reste très visibles, la détection de la balle ne peut donc pas reposer que sur cette soustraction. La soustraction de l'image moyenne présente cependant des inconvénients puisqu'elle floute légèrement la balle. Le paramètre tailleIntervalle permet de règler cet aspect. Pour les vidéos de tennis de table, la balle est généralement rapide et calculer l'image moyenne sur trois images consécutives suffit à la distinguer de ce qui est fixe."
   ]
  },
  {
   "cell_type": "code",
   "execution_count": 2,
   "metadata": {},
   "outputs": [
    {
     "data": {
      "text/html": [
       "\n",
       "<div align=\"middle\">\n",
       "<video width=\"80%\" controls>\n",
       "      <source src=\"videoSub.mp4\" type=\"video/mp4\">\n",
       "</video></div>"
      ],
      "text/plain": [
       "<IPython.core.display.HTML object>"
      ]
     },
     "execution_count": 2,
     "metadata": {},
     "output_type": "execute_result"
    }
   ],
   "source": [
    "from IPython.display import HTML\n",
    "\n",
    "HTML(\"\"\"\n",
    "<div align=\"middle\">\n",
    "<video width=\"80%\" controls>\n",
    "      <source src=\"SauvData/SUB_TT_echanges_1.mp4\" type=\"video/mp4\">\n",
    "</video></div>\"\"\")"
   ]
  },
  {
   "cell_type": "markdown",
   "metadata": {},
   "source": [
    "Sur les vidéos de billard, la soustraction d'image est particulièrement intéressante car elle permet d'identifier directement les boules mobiles. Les boules sont généralement plus lentes et un plus grand intervalle de calcul permet de mieux les identifier, notament au momment du choc."
   ]
  },
  {
   "cell_type": "code",
   "execution_count": 3,
   "metadata": {},
   "outputs": [
    {
     "data": {
      "text/html": [
       "\n",
       "<div align=\"middle\">\n",
       "<video width=\"80%\" controls>\n",
       "      <source src=\"SauvData/SUB_Billard_Coup_2.mp4\" type=\"video/mp4\">\n",
       "</video></div>"
      ],
      "text/plain": [
       "<IPython.core.display.HTML object>"
      ]
     },
     "execution_count": 3,
     "metadata": {},
     "output_type": "execute_result"
    }
   ],
   "source": [
    "from IPython.display import HTML\n",
    "\n",
    "HTML(\"\"\"\n",
    "<div align=\"middle\">\n",
    "<video width=\"80%\" controls>\n",
    "      <source src=\"SauvData/SUB_Billard_Coup_2.mp4\" type=\"video/mp4\">\n",
    "</video></div>\"\"\")"
   ]
  },
  {
   "cell_type": "markdown",
   "metadata": {},
   "source": [
    "Sur la vidéo de tir à l'arc en revanche, la flèche n'est pas distinguable, d'une part car elle est très fine et d'autre part car son mouvement filmé est très court temporellement."
   ]
  },
  {
   "cell_type": "code",
   "execution_count": 4,
   "metadata": {},
   "outputs": [
    {
     "data": {
      "text/html": [
       "\n",
       "<div align=\"middle\">\n",
       "<video width=\"80%\" controls>\n",
       "      <source src=\"SauvData/SUB_Arc_Compil_Tir.mp4\" type=\"video/mp4\">\n",
       "</video></div>"
      ],
      "text/plain": [
       "<IPython.core.display.HTML object>"
      ]
     },
     "execution_count": 4,
     "metadata": {},
     "output_type": "execute_result"
    }
   ],
   "source": [
    "from IPython.display import HTML\n",
    "\n",
    "HTML(\"\"\"\n",
    "<div align=\"middle\">\n",
    "<video width=\"80%\" controls>\n",
    "      <source src=\"SauvData/SUB_Arc_Compil_Tir.mp4\" type=\"video/mp4\">\n",
    "</video></div>\"\"\")"
   ]
  },
  {
   "cell_type": "markdown",
   "metadata": {},
   "source": []
  }
 ],
 "metadata": {
  "kernelspec": {
   "display_name": "Python 3",
   "language": "python",
   "name": "python3"
  },
  "language_info": {
   "codemirror_mode": {
    "name": "ipython",
    "version": 3
   },
   "file_extension": ".py",
   "mimetype": "text/x-python",
   "name": "python",
   "nbconvert_exporter": "python",
   "pygments_lexer": "ipython3",
   "version": "3.8.3"
  }
 },
 "nbformat": 4,
 "nbformat_minor": 4
}
