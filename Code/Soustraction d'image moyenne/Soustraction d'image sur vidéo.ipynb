{
 "cells": [
  {
   "cell_type": "markdown",
   "metadata": {},
   "source": [
    "# Soustraction d'image moyenne sur une vidéo"
   ]
  },
  {
   "cell_type": "markdown",
   "metadata": {},
   "source": [
    "## Etape 1 : Choix de la vidéo"
   ]
  },
  {
   "cell_type": "code",
   "execution_count": 1,
   "metadata": {
    "scrolled": true
   },
   "outputs": [
    {
     "data": {
      "application/vnd.jupyter.widget-view+json": {
       "model_id": "dd4b0913b5f9459289d403fb38c8465c",
       "version_major": 2,
       "version_minor": 0
      },
      "text/plain": [
       "Dropdown(description='Choisissez une vidéo :', options=('BestBilliardShots.mp4', 'BestTableTennisJune2019.mp4'…"
      ]
     },
     "metadata": {},
     "output_type": "display_data"
    },
    {
     "data": {
      "application/vnd.jupyter.widget-view+json": {
       "model_id": "7063c8768f4b4ae0acc10098a7285aa9",
       "version_major": 2,
       "version_minor": 0
      },
      "text/plain": [
       "Output()"
      ]
     },
     "metadata": {},
     "output_type": "display_data"
    }
   ],
   "source": [
    "import ipywidgets as widgets\n",
    "import os\n",
    "\n",
    "\n",
    "allfiles=os.listdir(os.getcwd()+\"/Vidéos\")\n",
    "listeVideo=[filename for filename in allfiles if  filename[-4:] in [\".mp4\",\".avi\",\".mov\",\".3gp\"]]\n",
    "\n",
    "nomVideo = widgets.Dropdown(options=listeVideo,\n",
    "    description='Choisissez une vidéo :',\n",
    "    disabled=False,\n",
    ")\n",
    "display(nomVideo)\n",
    "\n",
    "out = widgets.Output()\n",
    "\n",
    "\n",
    "def on_change(change):\n",
    "    if change['type'] == 'change' and change['name'] == 'value':\n",
    "        out.clear_output()\n",
    "        with out :\n",
    "            print(\"Vous avez choisi %s\" % change['new'])\n",
    "nomVideo.observe(on_change)\n",
    "display(out)"
   ]
  },
  {
   "cell_type": "code",
   "execution_count": 7,
   "metadata": {},
   "outputs": [
    {
     "name": "stdout",
     "output_type": "stream",
     "text": [
      "echanges_1(1).mov\n"
     ]
    },
    {
     "data": {
      "text/html": [
       "\n",
       "<video width=\"320\" height=\"240\" controls>\n",
       "  <source src=\"Vidéos/file\" type=\"video/mp4\">\n",
       "</video>\n"
      ],
      "text/plain": [
       "<IPython.core.display.HTML object>"
      ]
     },
     "execution_count": 7,
     "metadata": {},
     "output_type": "execute_result"
    }
   ],
   "source": [
    "file=nomVideo.value\n",
    "print(file)\n",
    "\n",
    "# lecture de la vidéo\n",
    "\n",
    "from IPython.display import HTML\n",
    "\n",
    "HTML(\"\"\"\n",
    "<video width=\"320\" height=\"240\" controls>\n",
    "  <source src=\"Vidéos/file\" type=\"video/mp4\">\n",
    "</video>\n",
    "\"\"\")\n"
   ]
  },
  {
   "cell_type": "markdown",
   "metadata": {},
   "source": [
    "## Etape 2 : Choix des paramètres de travail"
   ]
  },
  {
   "cell_type": "code",
   "execution_count": 9,
   "metadata": {},
   "outputs": [
    {
     "name": "stdout",
     "output_type": "stream",
     "text": [
      "Début de l'extrait (hh:mm:ss) : d\n",
      "Fin de l'extrait (hh:mm:ss) : f\n",
      "Nombre d'images par seconde à sélectionner : 30\n",
      "Nombre d'images pour calculer l'image moyenne : 5\n",
      "Position de l'image dans cet intervalle : 2\n"
     ]
    }
   ],
   "source": [
    "startTime = input(\"Début de l'extrait (hh:mm:ss) : \")\n",
    "if (startTime=='d'):\n",
    "    startSecond=0\n",
    "else:\n",
    "    temp=startTime.split(':')\n",
    "    startSecond = int(temp[0])*3600+int(temp[1])*60+int(temp[2])\n",
    "    \n",
    "stopTime = input(\"Fin de l'extrait (hh:mm:ss) : \")\n",
    "if (stopTime=='f'):\n",
    "    stopSecond=-1\n",
    "else:\n",
    "    temp=stopTime.split(':')\n",
    "    stopSecond = int(temp[0])*3600+int(temp[1])*60+int(temp[2])\n",
    "\n",
    "if (stopSecond!=-1):\n",
    "    if (startSecond>stopSecond):\n",
    "        print(\"Time codes erronés\")\n",
    "        \n",
    "#saveFPS = int(input(\"Nombre d'images par seconde à sélectionner : \"))\n",
    "tailleIntervalle = int(input(\"Nombre d'images pour calculer l'image moyenne : \"))\n",
    "posIm = int(input(\"Position de l'image dans cet intervalle : \"))-1\n",
    "\n",
    "\n",
    "if (posIm>=tailleIntervalle) or (posIm<0):\n",
    "    print(\"Position de l'image erronée\")\n"
   ]
  },
  {
   "cell_type": "markdown",
   "metadata": {},
   "source": [
    "## Etape 3 : Soustraction d'image moyenne"
   ]
  },
  {
   "cell_type": "code",
   "execution_count": 10,
   "metadata": {
    "scrolled": true
   },
   "outputs": [
    {
     "name": "stdout",
     "output_type": "stream",
     "text": [
      "29.984649496844618\n",
      "30 29.984649496844618 29.984649496844618\n",
      "OK\n",
      "Done\n"
     ]
    }
   ],
   "source": [
    "import cv2,numpy\n",
    "\n",
    "\n",
    "def video2listImage(adresseVideo,staSec,stoSec): # Renvoie une liste d'image sous forme d'array\n",
    "    video = cv2.VideoCapture(adresseVideo)\n",
    "    videoFPS = video.get(cv2.CAP_PROP_FPS)\n",
    "    print(videoFPS)\n",
    "    \n",
    "    # Première étape, aller au time code de départ\n",
    "    continuer=True\n",
    "    compteur=0\n",
    "    while continuer:\n",
    "        isRead = video.read()\n",
    "        if not isRead:\n",
    "            continuer = False\n",
    "            print(\"Time code de départ trop grand\")\n",
    "            return None\n",
    "        else:\n",
    "            compteur+=1\n",
    "            if (compteur/videoFPS>staSec):\n",
    "                continuer = False\n",
    "    \n",
    "    compteur-=1\n",
    "    if staSec!=0:\n",
    "        print(\"Time code de début atteint\",compteur/videoFPS)\n",
    "    \n",
    "    imlist=[]\n",
    "    continuer = True\n",
    "    \n",
    "    while continuer:\n",
    "        isRead , frame = video.read()  # A-t-on lu une image et si oui cette image\n",
    "        if not isRead:\n",
    "            continuer = False\n",
    "        else:\n",
    "            #frameTimeCode = compteur/videoFPS\n",
    "            imlist.append(frame)\n",
    "            compteur+=1\n",
    "            \n",
    "            if (stoSec!=-1): #Si on ne va pas jusqu'à la fin de la vidéo\n",
    "                if(compteur/videoFPS>stoSec):\n",
    "                    print(\"Time code de fin atteint\",compteur/videoFPS)\n",
    "                    continuer=False\n",
    "    \n",
    "    if (compteur/videoFPS<stoSec):\n",
    "        print(\"Time code de fin trop grand\")\n",
    "        return None\n",
    "    \n",
    "    return imlist,videoFPS\n",
    "\n",
    "def subImageMoyArr(imListArr,PosIm): # Renvoie un tableau OpenCV\n",
    "    n=len(imListArr)\n",
    "    imCentre=imListArr[PosIm]\n",
    "    imMoy=calcImageMoyenneArr(imListArr)\n",
    "    imSub = cv2.subtract(imCentre,imMoy)\n",
    "    return imSub\n",
    "\n",
    "def calcImageMoyenneArr(imListArr): # Renvoie array\n",
    "    w,h=len(imListArr[0]), len(imListArr[0][0])\n",
    "    arr=numpy.zeros((h,w,4),numpy.float)\n",
    "    images = numpy.array([image for image in imListArr])\n",
    "    # Round values in array and cast as 8-bit integer\n",
    "    arr=numpy.array(numpy.mean(images,axis=(0)),dtype=numpy.uint8)\n",
    "    return arr\n",
    "\n",
    "def SubImageMoySurListe(imList,tailleMoy,PosIm):\n",
    "    imlistMoy = [0]*tailleMoy\n",
    "    imlistSubMoy = [0]*(len(imList)-tailleMoy+1)\n",
    "    for i in range(PosIm,len(imList)-(tailleMoy-PosIm)):\n",
    "        # On selectionne les images autour de celle traitée\n",
    "        for j in range(tailleMoy):\n",
    "            imlistMoy[j]=imList[j+i-PosIm]\n",
    "        imlistSubMoy[i-PosIm]=subImageMoyArr(imlistMoy,PosIm)\n",
    "    return imlistSubMoy\n",
    "\n",
    "\n",
    "\n",
    "imList, FPS = video2listImage(\"Vidéos/\"+file,startSecond,stopSecond) # Tableau d'array\n",
    "if (imList!=None):\n",
    "    imListSubMoy=SubImageMoySurListe(imList, tailleIntervalle,posIm) # Les mêmes images, auxquelles on a enlevé les images moyennes\n",
    "    print('OK')\n",
    "print(\"Done\")\n"
   ]
  },
  {
   "cell_type": "markdown",
   "metadata": {},
   "source": [
    "## Etape 4 : Résultat"
   ]
  },
  {
   "cell_type": "code",
   "execution_count": 11,
   "metadata": {},
   "outputs": [
    {
     "data": {
      "text/html": [
       "\n",
       "<video width=\"320\" height=\"240\" controls>\n",
       "  <source src=\"videoWriteFile\" type=\"video/mp4\">\n",
       "</video>\n"
      ],
      "text/plain": [
       "<IPython.core.display.HTML object>"
      ]
     },
     "execution_count": 11,
     "metadata": {},
     "output_type": "execute_result"
    }
   ],
   "source": [
    "import time\n",
    "import cv2\n",
    "\"\"\"\n",
    "def readVideo(nomFichier):\n",
    "    cap = cv2.VideoCapture(nomFichier)\n",
    "    videoFPS = cap.get(cv2.CAP_PROP_FPS)\n",
    "    # Check if camera opened successfully\n",
    "    if (cap.isOpened()== False): \n",
    "        print(\"Error opening video  file\")\n",
    "    # Read until video is completed\n",
    "    while(cap.isOpened()):\n",
    "      # Capture frame-by-frame\n",
    "      ret, frame = cap.read()\n",
    "      if ret == True:\n",
    "        # Display the resulting frame\n",
    "        cv2.imshow('Frame', frame)\n",
    "        time.sleep(1/videoFPS)\n",
    "        # Press Q on keyboard to  exit\n",
    "        if cv2.waitKey(25) & 0xFF == ord('q'):\n",
    "          break\n",
    "      # Break the loop\n",
    "      else: \n",
    "        break\n",
    "    # When everything done, release \n",
    "    # the video capture object\n",
    "    cap.release()\"\"\"\n",
    "\n",
    "#Lecture de vidéo\n",
    "def listImage2Video(imList,writeFPS,nomFichier):\n",
    "    height,width,layers=imList[0].shape\n",
    "    # choose codec according to format needed\n",
    "    fourcc = cv2.VideoWriter_fourcc(*'mp4v')\n",
    "    video=cv2.VideoWriter(nomFichier, fourcc, writeFPS,(width,height))\n",
    "    for img in imList:\n",
    "        video.write(img)\n",
    "    return video\n",
    "   \n",
    "videoWriteFile=\"VidéosSUB/SUB \"+file\n",
    "videoSub = listImage2Video(imListSubMoy,FPS, videoWriteFile)\n",
    "videoSub.release()\n",
    "#readVideo(videoWriteFile)\n",
    "\n",
    "from IPython.display import HTML\n",
    "\n",
    "HTML(\"\"\"\n",
    "<video width=\"320\" height=\"240\" controls>\n",
    "  <source src=\"videoWriteFile\" type=\"video/mp4\">\n",
    "</video>\n",
    "\"\"\")\n"
   ]
  },
  {
   "cell_type": "code",
   "execution_count": 5,
   "metadata": {},
   "outputs": [],
   "source": [
    "## Effacer les fichiers générés\n",
    "import os\n",
    "allfiles=os.listdir(os.getcwd()+\"/VidéosSUB\")\n",
    "for file in allfiles:\n",
    "    os.remove(\"VidéosSUB/\"+file)"
   ]
  }
 ],
 "metadata": {
  "kernelspec": {
   "display_name": "Python 3",
   "language": "python",
   "name": "python3"
  },
  "language_info": {
   "codemirror_mode": {
    "name": "ipython",
    "version": 3
   },
   "file_extension": ".py",
   "mimetype": "text/x-python",
   "name": "python",
   "nbconvert_exporter": "python",
   "pygments_lexer": "ipython3",
   "version": "3.8.3"
  }
 },
 "nbformat": 4,
 "nbformat_minor": 4
}
