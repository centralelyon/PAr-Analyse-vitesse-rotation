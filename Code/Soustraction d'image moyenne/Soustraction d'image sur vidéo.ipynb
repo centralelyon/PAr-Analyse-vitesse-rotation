{
 "cells": [
  {
   "cell_type": "markdown",
   "metadata": {},
   "source": [
    "# Soustraction d'image moyenne sur une vidéo"
   ]
  },
  {
   "cell_type": "markdown",
   "metadata": {},
   "source": [
    "## Etape 1 : Choix de la vidéo"
   ]
  },
  {
   "cell_type": "code",
   "execution_count": 11,
   "metadata": {
    "scrolled": true
   },
   "outputs": [
    {
     "data": {
      "application/vnd.jupyter.widget-view+json": {
       "model_id": "4b4fc6c6f59b488fa99cf9da82dffe29",
       "version_major": 2,
       "version_minor": 0
      },
      "text/plain": [
       "Dropdown(description='Choisissez une vidéo :', options=('ARC2_2021-08-31_12-00-59_RECORD_1.mp4', 'BestTableTen…"
      ]
     },
     "metadata": {},
     "output_type": "display_data"
    },
    {
     "data": {
      "application/vnd.jupyter.widget-view+json": {
       "model_id": "64911f705a064010940c94a55fb3b031",
       "version_major": 2,
       "version_minor": 0
      },
      "text/plain": [
       "Output()"
      ]
     },
     "metadata": {},
     "output_type": "display_data"
    }
   ],
   "source": [
    "import ipywidgets as widgets\n",
    "import os\n",
    "\n",
    "\n",
    "allfiles=os.listdir(os.getcwd()+\"/Vidéos\")\n",
    "listeVideo=[filename for filename in allfiles if  filename[-4:] in [\".mp4\"]]\n",
    "\n",
    "nomVideo = widgets.Dropdown(options=listeVideo,\n",
    "    description='Choisissez une vidéo :',\n",
    "    disabled=False,\n",
    ")\n",
    "display(nomVideo)\n",
    "\n",
    "out = widgets.Output()\n",
    "\n",
    "\n",
    "def on_change(change):\n",
    "    if change['type'] == 'change' and change['name'] == 'value':\n",
    "        out.clear_output()\n",
    "        with out :\n",
    "            print(\"Vous avez choisi %s\" % change['new'])\n",
    "nomVideo.observe(on_change)\n",
    "display(out)"
   ]
  },
  {
   "cell_type": "code",
   "execution_count": 12,
   "metadata": {},
   "outputs": [
    {
     "name": "stdout",
     "output_type": "stream",
     "text": [
      "Billard - Coup 2.mp4\n"
     ]
    },
    {
     "data": {
      "text/html": [
       "\n",
       "<video width=\"320\" height=\"240\" controls>\n",
       "  <source src=\"Vidéos/file\" type=\"video/mp4\">\n",
       "</video>\n"
      ],
      "text/plain": [
       "<IPython.core.display.HTML object>"
      ]
     },
     "execution_count": 12,
     "metadata": {},
     "output_type": "execute_result"
    }
   ],
   "source": [
    "file=nomVideo.value\n",
    "print(file)\n",
    "\n",
    "# lecture de la vidéo\n",
    "\n",
    "from IPython.display import HTML\n",
    "\n",
    "HTML(\"\"\"\n",
    "<video width=\"320\" height=\"240\" controls>\n",
    "  <source src=\"Vidéos/file\" type=\"video/mp4\">\n",
    "</video>\n",
    "\"\"\")\n"
   ]
  },
  {
   "cell_type": "markdown",
   "metadata": {},
   "source": [
    "## Etape 2 : Choix des paramètres de travail"
   ]
  },
  {
   "cell_type": "code",
   "execution_count": 13,
   "metadata": {},
   "outputs": [
    {
     "name": "stdout",
     "output_type": "stream",
     "text": [
      "Début de l'extrait (hh:mm:ss) : d\n",
      "Fin de l'extrait (hh:mm:ss) : f\n",
      "Nombre d'images par seconde à sélectionner : 24\n",
      "Nombre d'images pour calculer l'image moyenne : 5\n",
      "Position de l'image dans cet intervalle : 3\n"
     ]
    }
   ],
   "source": [
    "startTime = input(\"Début de l'extrait (hh:mm:ss) : \")\n",
    "if (startTime=='d'):\n",
    "    startSecond=0\n",
    "else:\n",
    "    temp=startTime.split(':')\n",
    "    startSecond = int(temp[0])*3600+int(temp[1])*60+int(temp[2])\n",
    "    \n",
    "stopTime = input(\"Fin de l'extrait (hh:mm:ss) : \")\n",
    "if (stopTime=='f'):\n",
    "    stopSecond=-1\n",
    "else:\n",
    "    temp=stopTime.split(':')\n",
    "    stopSecond = int(temp[0])*3600+int(temp[1])*60+int(temp[2])\n",
    "\n",
    "if (stopSecond!=-1):\n",
    "    if (startSecond>stopSecond):\n",
    "        print(\"Time codes erronés\")\n",
    "        \n",
    "saveFPS = int(input(\"Nombre d'images par seconde à sélectionner : \"))\n",
    "tailleIntervalle = int(input(\"Nombre d'images pour calculer l'image moyenne : \"))\n",
    "posIm = int(input(\"Position de l'image dans cet intervalle : \"))-1\n",
    "\n",
    "\n",
    "if (posIm>=tailleIntervalle) or (posIm<0):\n",
    "    print(\"Position de l'image erronée\")\n"
   ]
  },
  {
   "cell_type": "markdown",
   "metadata": {},
   "source": [
    "## Etape 3 : Soustraction d'image moyenne"
   ]
  },
  {
   "cell_type": "code",
   "execution_count": 14,
   "metadata": {},
   "outputs": [
    {
     "name": "stdout",
     "output_type": "stream",
     "text": [
      "Time code de début atteint 0.0\n",
      "OK\n",
      "Done\n"
     ]
    }
   ],
   "source": [
    "import cv2,numpy\n",
    "\n",
    "\n",
    "def video2listImage(adresseVideo,saveFPS,staSec,stoSec): # Renvoie une liste d'image sous forme d'array\n",
    "    video = cv2.VideoCapture(adresseVideo)\n",
    "    videoFPS = video.get(cv2.CAP_PROP_FPS)\n",
    "    \n",
    "    # Première étape, aller au time code de départ\n",
    "    continuer=True\n",
    "    compteur=0\n",
    "    while continuer:\n",
    "        isRead = video.read()\n",
    "        if not isRead:\n",
    "            continuer = False\n",
    "            print(\"Time code de départ trop grand\")\n",
    "            return None\n",
    "        else:\n",
    "            compteur+=1\n",
    "            if (compteur/videoFPS>staSec):\n",
    "                continuer = False\n",
    "    \n",
    "    compteur-=1\n",
    "    if staSec!=0:\n",
    "        print(\"Time code de début atteint\",compteur/videoFPS)\n",
    "    \n",
    "    \n",
    "    fps = min(saveFPS,videoFPS) # On peut enregistrer moins d'images en mettant un saveFPS \n",
    "                                # inférieur mais pas l'inverse\n",
    "    fps=videoFPS\n",
    "    imlist=[]\n",
    "    continuer = True\n",
    "    \n",
    "    while continuer:\n",
    "        isRead , frame = video.read()  # A-t-on lu une image et si oui cette image\n",
    "        if not isRead:\n",
    "            continuer = False\n",
    "        else:\n",
    "            frameTimeCode = compteur/videoFPS\n",
    "            if frameTimeCode*fps%1==0: # Si le timeCode*le fps d'enregistrement est entier,\n",
    "                                       # on sauvegarde l'image\n",
    "                imlist.append(frame)\n",
    "            compteur+=1\n",
    "            \n",
    "            if (stoSec!=-1): #Si on ne va pas jusqu'à la fin de la vidéo\n",
    "                if(compteur/videoFPS>stoSec):\n",
    "                    print(\"Time code de fin atteint\",compteur/videoFPS)\n",
    "                    continuer=False\n",
    "    \n",
    "    if (compteur/videoFPS<stoSec):\n",
    "        print(\"Time code de fin trop grand\")\n",
    "        return None\n",
    "    \n",
    "    return imlist,fps\n",
    "\n",
    "def subImageMoyArr(imListArr,PosIm): # Renvoie un tableau OpenCV\n",
    "    n=len(imListArr)\n",
    "    imCentre=imListArr[PosIm]\n",
    "    imMoy=calcImageMoyenneArr(imListArr)\n",
    "    imSub = cv2.subtract(imCentre,imMoy)\n",
    "    return imSub\n",
    "\n",
    "def calcImageMoyenneArr(imListArr): # Renvoie array\n",
    "    w,h=len(imListArr[0]), len(imListArr[0][0])\n",
    "    arr=numpy.zeros((h,w,4),numpy.float)\n",
    "    images = numpy.array([image for image in imListArr])\n",
    "    # Round values in array and cast as 8-bit integer\n",
    "    arr=numpy.array(numpy.mean(images,axis=(0)),dtype=numpy.uint8)\n",
    "    return arr\n",
    "\n",
    "def SubImageMoySurListe(imList,tailleMoy,PosIm):\n",
    "    imlistMoy = [0]*tailleMoy\n",
    "    imlistSubMoy = [0]*(len(imList)-tailleMoy+1)\n",
    "    for i in range(PosIm,len(imList)-(tailleMoy-PosIm)):\n",
    "        # On selectionne les images autour de celle traitée\n",
    "        for j in range(tailleMoy):\n",
    "            imlistMoy[j]=imList[j+i-PosIm]\n",
    "        imlistSubMoy[i-PosIm]=subImageMoyArr(imlistMoy,PosIm)\n",
    "    return imlistSubMoy\n",
    "\n",
    "\n",
    "\n",
    "imList, FPS = video2listImage(\"Vidéos/\"+file,saveFPS,startSecond,stopSecond) # Tableau d'array\n",
    "if (imList!=None):\n",
    "    imListSubMoy=SubImageMoySurListe(imList, tailleIntervalle,posIm) # Les mêmes images, auxquelles on a enlevé les images moyennes\n",
    "    print('OK')\n",
    "print(\"Done\")\n"
   ]
  },
  {
   "cell_type": "markdown",
   "metadata": {},
   "source": [
    "## Etape 4 : Résultat"
   ]
  },
  {
   "cell_type": "code",
   "execution_count": 15,
   "metadata": {},
   "outputs": [
    {
     "data": {
      "text/html": [
       "\n",
       "<video width=\"320\" height=\"240\" controls>\n",
       "  <source src=\"videoWriteFile\" type=\"video/mp4\">\n",
       "</video>\n"
      ],
      "text/plain": [
       "<IPython.core.display.HTML object>"
      ]
     },
     "execution_count": 15,
     "metadata": {},
     "output_type": "execute_result"
    }
   ],
   "source": [
    "import time\n",
    "import cv2\n",
    "\n",
    "#Lecture de vidéo\n",
    "def listImage2Video(imList,writeFPS,nomFichier):\n",
    "    height,width,layers=imList[0].shape\n",
    "    # choose codec according to format needed\n",
    "    fourcc = cv2.VideoWriter_fourcc(*'mp4v')\n",
    "    video=cv2.VideoWriter(nomFichier, fourcc, writeFPS,(width,height))\n",
    "    for img in imList:\n",
    "        video.write(img)\n",
    "    return video\n",
    "   \n",
    "videoWriteFile=\"VidéosSUB/SUB \"+file\n",
    "videoSub = listImage2Video(imListSubMoy,FPS, videoWriteFile)\n",
    "videoSub.release()\n",
    "\n",
    "\n",
    "from IPython.display import HTML\n",
    "\n",
    "HTML(\"\"\"\n",
    "<video width=\"320\" height=\"240\" controls>\n",
    "  <source src=\"videoWriteFile\" type=\"video/mp4\">\n",
    "</video>\n",
    "\"\"\")\n"
   ]
  },
  {
   "cell_type": "code",
   "execution_count": 5,
   "metadata": {},
   "outputs": [],
   "source": [
    "## Effacer les fichiers générés\n",
    "import os\n",
    "allfiles=os.listdir(os.getcwd()+\"/VidéosSUB\")\n",
    "for file in allfiles:\n",
    "    os.remove(\"VidéosSUB/\"+file)"
   ]
  }
 ],
 "metadata": {
  "kernelspec": {
   "display_name": "Python 3",
   "language": "python",
   "name": "python3"
  },
  "language_info": {
   "codemirror_mode": {
    "name": "ipython",
    "version": 3
   },
   "file_extension": ".py",
   "mimetype": "text/x-python",
   "name": "python",
   "nbconvert_exporter": "python",
   "pygments_lexer": "ipython3",
   "version": "3.8.3"
  }
 },
 "nbformat": 4,
 "nbformat_minor": 4
}
