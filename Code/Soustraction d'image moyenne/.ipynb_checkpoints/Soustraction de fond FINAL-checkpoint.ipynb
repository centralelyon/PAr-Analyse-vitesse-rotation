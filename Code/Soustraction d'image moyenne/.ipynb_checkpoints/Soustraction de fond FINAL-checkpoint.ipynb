{
 "cells": [
  {
   "cell_type": "markdown",
   "metadata": {},
   "source": [
    "# Soustraction d'image moyenne sur une vidéo\n",
    "\n",
    "## Etape 1 : Choix de la vidéo"
   ]
  },
  {
   "cell_type": "code",
   "execution_count": 3,
   "metadata": {},
   "outputs": [
    {
     "data": {
      "application/vnd.jupyter.widget-view+json": {
       "model_id": "84728c0389c649fcacb8c36530f3fc60",
       "version_major": 2,
       "version_minor": 0
      },
      "text/plain": [
       "Dropdown(description='Choisissez une vidéo :', options=('Arc_Compil_Tir', 'Billard_Coup_1', 'Billard_Coup_2', …"
      ]
     },
     "metadata": {},
     "output_type": "display_data"
    },
    {
     "data": {
      "application/vnd.jupyter.widget-view+json": {
       "model_id": "14b57eb077344265adc411f4e5b821a2",
       "version_major": 2,
       "version_minor": 0
      },
      "text/plain": [
       "Output()"
      ]
     },
     "metadata": {},
     "output_type": "display_data"
    }
   ],
   "source": [
    "import ipywidgets as widgets\n",
    "import os\n",
    "\n",
    "\n",
    "alldir=os.listdir(os.getcwd()+\"/Data\")\n",
    "#listeVideo=[filename for filename in allfiles if  filename[-4:] in [\".mp4\",\".avi\",\".mov\",\".3gp\"]]\n",
    "listeVideo=[filename for filename in alldir]\n",
    "\n",
    "nomVideo = widgets.Dropdown(options=listeVideo,\n",
    "    description='Choisissez une vidéo :',\n",
    "    disabled=False,\n",
    ")\n",
    "display(nomVideo)\n",
    "\n",
    "out = widgets.Output()\n",
    "\n",
    "\n",
    "def on_change(change):\n",
    "    if change['type'] == 'change' and change['name'] == 'value':\n",
    "        out.clear_output()\n",
    "        with out :\n",
    "            print(\"Vous avez choisi %s\" % change['new'])\n",
    "nomVideo.observe(on_change)\n",
    "display(out)"
   ]
  },
  {
   "cell_type": "markdown",
   "metadata": {},
   "source": [
    "## Etape 2 : Soustraction de fond"
   ]
  },
  {
   "cell_type": "code",
   "execution_count": 8,
   "metadata": {},
   "outputs": [
    {
     "name": "stdout",
     "output_type": "stream",
     "text": [
      "TT_echanges_1.mov\n"
     ]
    },
    {
     "data": {
      "text/html": [
       "\n",
       "<video width=\"320\" height=\"240\" controls>\n",
       "  <source src=\"Vidéos/file\" type=\"video/mp4\">\n",
       "</video>\n"
      ],
      "text/plain": [
       "<IPython.core.display.HTML object>"
      ]
     },
     "execution_count": 8,
     "metadata": {},
     "output_type": "execute_result"
    }
   ],
   "source": [
    "allfiles=os.listdir(os.getcwd()+\"/Data/\"+nomVideo.value)\n",
    "file=[name for name in allfiles if (name.startswith(nomVideo.value) and name[-4:] in [\".mp4\",\".avi\",\".mov\",\".3gp\"])][0]\n",
    "#file=nomVideo.value\n",
    "print(file)\n",
    "\n",
    "# lecture de la vidéo\n",
    "\n",
    "from IPython.display import HTML\n",
    "\n",
    "HTML(\"\"\"\n",
    "<video width=\"320\" height=\"240\" controls>\n",
    "  <source src=\"Vidéos/file\" type=\"video/mp4\">\n",
    "</video>\n",
    "\"\"\")\n",
    "\n",
    "\n",
    "##Récupération des paramètres dans un csv\n",
    "\n",
    "startSecond=0\n",
    "stopSecond=-1\n",
    "tailleIntervalle=5\n",
    "posIm=3\n",
    "\n",
    "import cv2,numpy\n",
    "\n",
    "\n",
    "def video2listImage(adresseVideo,staSec,stoSec): # Renvoie une liste d'image sous forme d'array\n",
    "    video = cv2.VideoCapture(adresseVideo)\n",
    "    videoFPS = video.get(cv2.CAP_PROP_FPS)\n",
    "    print(videoFPS)\n",
    "    \n",
    "    # Première étape, aller au time code de départ\n",
    "    continuer=True\n",
    "    compteur=0\n",
    "    while continuer:\n",
    "        isRead = video.read()\n",
    "        if not isRead:\n",
    "            continuer = False\n",
    "            print(\"Time code de départ trop grand\")\n",
    "            return None\n",
    "        else:\n",
    "            compteur+=1\n",
    "            if (compteur/videoFPS>staSec):\n",
    "                continuer = False\n",
    "    \n",
    "    compteur-=1\n",
    "    if staSec!=0:\n",
    "        print(\"Time code de début atteint\",compteur/videoFPS)\n",
    "    \n",
    "    imlist=[]\n",
    "    continuer = True\n",
    "    \n",
    "    while continuer:\n",
    "        isRead , frame = video.read()  # A-t-on lu une image et si oui cette image\n",
    "        if not isRead:\n",
    "            continuer = False\n",
    "        else:\n",
    "            #frameTimeCode = compteur/videoFPS\n",
    "            imlist.append(frame)\n",
    "            compteur+=1\n",
    "            \n",
    "            if (stoSec!=-1): #Si on ne va pas jusqu'à la fin de la vidéo\n",
    "                if(compteur/videoFPS>stoSec):\n",
    "                    print(\"Time code de fin atteint\",compteur/videoFPS)\n",
    "                    continuer=False\n",
    "    \n",
    "    if (compteur/videoFPS<stoSec):\n",
    "        print(\"Time code de fin trop grand\")\n",
    "        return None\n",
    "    \n",
    "    return imlist,videoFPS\n",
    "\n",
    "def subImageMoyArr(imListArr,PosIm): # Renvoie un tableau OpenCV\n",
    "    n=len(imListArr)\n",
    "    imCentre=imListArr[PosIm]\n",
    "    imMoy=calcImageMoyenneArr(imListArr)\n",
    "    imSub = cv2.subtract(imCentre,imMoy)\n",
    "    return imSub\n",
    "\n",
    "def calcImageMoyenneArr(imListArr): # Renvoie array\n",
    "    w,h=len(imListArr[0]), len(imListArr[0][0])\n",
    "    arr=numpy.zeros((h,w,4),numpy.float)\n",
    "    images = numpy.array([image for image in imListArr])\n",
    "    # Round values in array and cast as 8-bit integer\n",
    "    arr=numpy.array(numpy.mean(images,axis=(0)),dtype=numpy.uint8)\n",
    "    return arr\n",
    "\n",
    "def SubImageMoySurListe(imList,tailleMoy,PosIm):\n",
    "    imlistMoy = [0]*tailleMoy\n",
    "    imlistSubMoy = [0]*(len(imList)-tailleMoy+1)\n",
    "    for i in range(PosIm,len(imList)-(tailleMoy-PosIm)):\n",
    "        # On selectionne les images autour de celle traitée\n",
    "        for j in range(tailleMoy):\n",
    "            imlistMoy[j]=imList[j+i-PosIm]\n",
    "        imlistSubMoy[i-PosIm]=subImageMoyArr(imlistMoy,PosIm)\n",
    "    return imlistSubMoy\n",
    "\n",
    "\n",
    "\n",
    "imList, FPS = video2listImage(\"Vidéos/\"+file,startSecond,stopSecond) # Tableau d'array\n",
    "if (imList!=None):\n",
    "    imListSubMoy=SubImageMoySurListe(imList, tailleIntervalle,posIm) # Les mêmes images, auxquelles on a enlevé les images moyennes\n",
    "    print('OK')\n",
    "\n",
    "\n",
    "\n",
    "#Enregistrement de la vidéo\n",
    "def listImage2Video(imList,writeFPS,nomFichier):\n",
    "    height,width,layers=imList[0].shape\n",
    "    # choose codec according to format needed\n",
    "    fourcc = cv2.VideoWriter_fourcc(*'mp4v')\n",
    "    video=cv2.VideoWriter(nomFichier, fourcc, writeFPS,(width,height))\n",
    "    for img in imList:\n",
    "        video.write(img)\n",
    "    return video\n",
    "   \n",
    "videoWriteFile=\"VidéosSUB/SUB \"+file\n",
    "videoSub = listImage2Video(imListSubMoy,FPS, videoWriteFile)\n",
    "videoSub.release()\n",
    "print(\"Done\")\n",
    "\n",
    "from IPython.display import HTML\n",
    "\n",
    "HTML(\"\"\"\n",
    "<video width=\"320\" height=\"240\" controls>\n",
    "  <source src=\"videoWriteFile\" type=\"video/mp4\">\n",
    "</video>\n",
    "\"\"\")"
   ]
  },
  {
   "cell_type": "code",
   "execution_count": null,
   "metadata": {},
   "outputs": [],
   "source": []
  }
 ],
 "metadata": {
  "kernelspec": {
   "display_name": "Python 3",
   "language": "python",
   "name": "python3"
  },
  "language_info": {
   "codemirror_mode": {
    "name": "ipython",
    "version": 3
   },
   "file_extension": ".py",
   "mimetype": "text/x-python",
   "name": "python",
   "nbconvert_exporter": "python",
   "pygments_lexer": "ipython3",
   "version": "3.8.3"
  }
 },
 "nbformat": 4,
 "nbformat_minor": 4
}
